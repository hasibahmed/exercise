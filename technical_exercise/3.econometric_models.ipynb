{
 "cells": [
  {
   "cell_type": "markdown",
   "metadata": {},
   "source": [
    "3.\tBuild statistical model(s) – also known as econometric model(s) – to explain how a set of explanatory variables each affect annual net savings. Comment on the results. Which explanatory variables have robust statistically significant effects in your model(s)? Do these results make sense?"
   ]
  },
  {
   "cell_type": "markdown",
   "metadata": {},
   "source": []
  }
 ],
 "metadata": {
  "language_info": {
   "name": "python"
  }
 },
 "nbformat": 4,
 "nbformat_minor": 2
}
