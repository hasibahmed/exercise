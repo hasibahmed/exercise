{
 "cells": [
  {
   "cell_type": "markdown",
   "metadata": {},
   "source": [
    "3.\tBuild statistical model(s) – also known as econometric model(s) – to explain how a set of explanatory variables each affect annual net savings. Comment on the results. Which explanatory variables have robust statistically significant effects in your model(s)? Do these results make sense?"
   ]
  },
  {
   "cell_type": "code",
   "execution_count": 1,
   "metadata": {},
   "outputs": [],
   "source": [
    "import pandas as pd\n",
    "import numpy as np\n",
    "import matplotlib.pyplot as plt \n",
    "\n",
    "import statsmodels.api as sm\n"
   ]
  },
  {
   "cell_type": "markdown",
   "metadata": {},
   "source": [
    "Build a simple regression model: ordinary least square (OLS) where the net saving is represented as a linear combination of the independent variables and find the best fit to estimate the co-efficients. In modeling so, we make the following assumptions:\n",
    "\n",
    "1) linear relationship between net savings and independent (explanatory) variables \n",
    "2) residuals (erros) are normally distributed \n",
    "3) variance of the residuals are constant \n",
    "4) annual net saving is independt of residuals\n",
    "5) no multicollinearity -- we know from our previous correlation analysis that some of the variables are *highly correleated* - a) net_salary, observed_income, other_income, observed_surplus b) age, savings_bal_lbg. Keep <span style=\"color:green\"> *observed_income*, *age* </span> and drop the <span style=\"color:red\"> others </span>.  "
   ]
  },
  {
   "cell_type": "code",
   "execution_count": 2,
   "metadata": {},
   "outputs": [],
   "source": [
    "# read the cleaned dataset \n",
    "df = pd.read_pickle('data/customer_data_modified.pkl')"
   ]
  },
  {
   "cell_type": "code",
   "execution_count": 3,
   "metadata": {},
   "outputs": [],
   "source": [
    "# drop the variables we dont need \n",
    "# df = df_clean.drop(columns=['cust_unique_id', 'gender', 'ethnicity_group', 'geo_region', 'net_salary', 'other_income', 'observed_surplus', 'savings_bal_lbg'])"
   ]
  },
  {
   "cell_type": "code",
   "execution_count": 4,
   "metadata": {},
   "outputs": [
    {
     "name": "stdout",
     "output_type": "stream",
     "text": [
      "<class 'pandas.core.frame.DataFrame'>\n",
      "Index: 4972 entries, 7 to 30304\n",
      "Data columns (total 18 columns):\n",
      " #   Column                  Non-Null Count  Dtype  \n",
      "---  ------                  --------------  -----  \n",
      " 0   cust_unique_id          4972 non-null   int64  \n",
      " 1   age                     4972 non-null   int64  \n",
      " 2   gender                  4972 non-null   object \n",
      " 3   gender_cat              4972 non-null   int64  \n",
      " 4   ethnicity_group         4972 non-null   object \n",
      " 5   ethnicity_group_cat     4972 non-null   int64  \n",
      " 6   geo_region              4972 non-null   object \n",
      " 7   geo_region_cat          4972 non-null   int64  \n",
      " 8   net_salary              4972 non-null   float64\n",
      " 9   other_income            4972 non-null   float64\n",
      " 10  observed_income         4972 non-null   float64\n",
      " 11  housing_spend           4972 non-null   float64\n",
      " 12  childcare_spend         4972 non-null   float64\n",
      " 13  gambling_spend          4972 non-null   float64\n",
      " 14  observed_surplus        4972 non-null   float64\n",
      " 15  credit_score            4972 non-null   float64\n",
      " 16  savings_bal_lbg         4972 non-null   float64\n",
      " 17  annual_net_savings_lbg  4972 non-null   float64\n",
      "dtypes: float64(10), int64(5), object(3)\n",
      "memory usage: 738.0+ KB\n"
     ]
    }
   ],
   "source": [
    "df.info()"
   ]
  },
  {
   "cell_type": "code",
   "execution_count": 5,
   "metadata": {},
   "outputs": [],
   "source": [
    "# function to perform OLS fit and to return the model\n",
    "\n",
    "def regression_model(df, dependent_var, independent_vars):\n",
    "    X = df[independent_vars]\n",
    "    Y = df[dependent_var]\n",
    "\n",
    "    # add coefficients \n",
    "    X = sm.add_constant(X)\n",
    "\n",
    "    model = sm.OLS(Y,X).fit()\n",
    "    predictions = model.predict(X)\n",
    "    #print(predictions)\n",
    "\n",
    "    \n",
    "    return model\n"
   ]
  },
  {
   "cell_type": "code",
   "execution_count": 6,
   "metadata": {},
   "outputs": [
    {
     "name": "stdout",
     "output_type": "stream",
     "text": [
      "                              OLS Regression Results                              \n",
      "==================================================================================\n",
      "Dep. Variable:     annual_net_savings_lbg   R-squared:                       0.271\n",
      "Model:                                OLS   Adj. R-squared:                  0.270\n",
      "Method:                     Least Squares   F-statistic:                     204.8\n",
      "Date:                    Wed, 06 Dec 2023   Prob (F-statistic):               0.00\n",
      "Time:                            07:30:29   Log-Likelihood:                -52049.\n",
      "No. Observations:                    4972   AIC:                         1.041e+05\n",
      "Df Residuals:                        4962   BIC:                         1.042e+05\n",
      "Df Model:                               9                                         \n",
      "Covariance Type:                nonrobust                                         \n",
      "=======================================================================================\n",
      "                          coef    std err          t      P>|t|      [0.025      0.975]\n",
      "---------------------------------------------------------------------------------------\n",
      "const               -1232.4708   1170.523     -1.053      0.292   -3527.213    1062.271\n",
      "age                   222.3219     11.923     18.646      0.000     198.948     245.696\n",
      "gender_cat            123.7689    224.153      0.552      0.581    -315.670     563.208\n",
      "ethnicity_group_cat  -240.1125    204.819     -1.172      0.241    -641.648     161.423\n",
      "geo_region_cat        -38.1628    111.356     -0.343      0.732    -256.470     180.145\n",
      "observed_income         0.2411      0.026      9.187      0.000       0.190       0.293\n",
      "housing_spend          -0.1651      0.083     -1.982      0.048      -0.328      -0.002\n",
      "childcare_spend        -0.2773      0.057     -4.882      0.000      -0.389      -0.166\n",
      "gambling_spend         -0.6116      0.298     -2.050      0.040      -1.196      -0.027\n",
      "credit_score            0.5393      0.374      1.444      0.149      -0.193       1.272\n",
      "==============================================================================\n",
      "Omnibus:                     1847.684   Durbin-Watson:                   1.983\n",
      "Prob(Omnibus):                  0.000   Jarque-Bera (JB):             5470.117\n",
      "Skew:                          -1.992   Prob(JB):                         0.00\n",
      "Kurtosis:                       6.246   Cond. No.                     7.33e+05\n",
      "==============================================================================\n",
      "\n",
      "Notes:\n",
      "[1] Standard Errors assume that the covariance matrix of the errors is correctly specified.\n",
      "[2] The condition number is large, 7.33e+05. This might indicate that there are\n",
      "strong multicollinearity or other numerical problems.\n"
     ]
    }
   ],
   "source": [
    "X = ['age', 'gender_cat', 'ethnicity_group_cat', 'geo_region_cat', 'observed_income', 'housing_spend', 'childcare_spend', 'gambling_spend', 'credit_score']\n",
    "model1 = regression_model(df, 'annual_net_savings_lbg', X)\n",
    "print(model1.summary())"
   ]
  },
  {
   "cell_type": "markdown",
   "metadata": {},
   "source": [
    "# Summary:\n",
    "* model1 uses the set of independent variables shown above. \n",
    "* Adj. R^2: model explains 27% of the variance in annual net salary \n",
    "* The F-statistics along with P(F) strongly rejects the null hypothesis and confirms the affect of the independent variables on the regression is significant \n",
    "* Age has the highest co-efficient with p-value of 0 indicating robust affect on annual net savings with large statistical significance\n",
    "* Observed income, housing spend, childcare spend, gambling spend also affect net savings with large statistical significance \n",
    "* On the other hand categorical variables- gender, ethnicity, geo region although have large \"affect\" (value of coef) on net savings they are not statistically significant "
   ]
  },
  {
   "cell_type": "code",
   "execution_count": 7,
   "metadata": {},
   "outputs": [
    {
     "name": "stdout",
     "output_type": "stream",
     "text": [
      "                              OLS Regression Results                              \n",
      "==================================================================================\n",
      "Dep. Variable:     annual_net_savings_lbg   R-squared:                       0.270\n",
      "Model:                                OLS   Adj. R-squared:                  0.270\n",
      "Method:                     Least Squares   F-statistic:                     367.8\n",
      "Date:                    Wed, 06 Dec 2023   Prob (F-statistic):               0.00\n",
      "Time:                            07:30:29   Log-Likelihood:                -52051.\n",
      "No. Observations:                    4972   AIC:                         1.041e+05\n",
      "Df Residuals:                        4966   BIC:                         1.042e+05\n",
      "Df Model:                               5                                         \n",
      "Covariance Type:                nonrobust                                         \n",
      "===================================================================================\n",
      "                      coef    std err          t      P>|t|      [0.025      0.975]\n",
      "-----------------------------------------------------------------------------------\n",
      "const           -1290.1787    967.942     -1.333      0.183   -3187.773     607.415\n",
      "age               222.7756     11.894     18.730      0.000     199.458     246.093\n",
      "observed_income     0.2501      0.025     10.091      0.000       0.202       0.299\n",
      "housing_spend      -0.1754      0.083     -2.116      0.034      -0.338      -0.013\n",
      "childcare_spend    -0.2866      0.056     -5.080      0.000      -0.397      -0.176\n",
      "gambling_spend     -0.6195      0.298     -2.077      0.038      -1.204      -0.035\n",
      "==============================================================================\n",
      "Omnibus:                     1847.717   Durbin-Watson:                   1.982\n",
      "Prob(Omnibus):                  0.000   Jarque-Bera (JB):             5469.210\n",
      "Skew:                          -1.992   Prob(JB):                         0.00\n",
      "Kurtosis:                       6.245   Cond. No.                     6.04e+05\n",
      "==============================================================================\n",
      "\n",
      "Notes:\n",
      "[1] Standard Errors assume that the covariance matrix of the errors is correctly specified.\n",
      "[2] The condition number is large, 6.04e+05. This might indicate that there are\n",
      "strong multicollinearity or other numerical problems.\n"
     ]
    }
   ],
   "source": [
    "# lets create another model by dropping the variables that doesn't have statistically significant affect on net savings \n",
    "X = ['age', 'observed_income', 'housing_spend', 'childcare_spend', 'gambling_spend']\n",
    "model2 = regression_model(df, 'annual_net_savings_lbg', X)\n",
    "print(model2.summary())"
   ]
  },
  {
   "cell_type": "markdown",
   "metadata": {},
   "source": [
    "* The Adjusted R^2 remains the same further confirming the affect of those variables are not significant  "
   ]
  },
  {
   "cell_type": "markdown",
   "metadata": {},
   "source": [
    "# Caveat/Drawback:\n",
    "\n",
    "Despite the above result and insights, keep in mind that this model has the following drawbacks:\n",
    "* Condition number which measures the sensitivity of the dependent variable compared to the indepent variables is very high i.e. large fluctuation of output with small fluctuation in input. This is due to the multicollinearity - which we already know from our correlation matrix. We only dropped the most significant correlations. However, OLS assumes no multicorrelation. For cases like this a Principal Component Analysis followed up a linear regression would be the next approach to try. \n",
    "\n",
    "* From P(Omnibus), P(JB) it is also clear that the assumption of the normal distribution of the residuals is also not valid."
   ]
  },
  {
   "cell_type": "code",
   "execution_count": 10,
   "metadata": {},
   "outputs": [
    {
     "name": "stdout",
     "output_type": "stream",
     "text": [
      "                              OLS Regression Results                              \n",
      "==================================================================================\n",
      "Dep. Variable:     annual_net_savings_lbg   R-squared:                       0.271\n",
      "Model:                                OLS   Adj. R-squared:                  0.270\n",
      "Method:                     Least Squares   F-statistic:                     263.1\n",
      "Date:                    Wed, 06 Dec 2023   Prob (F-statistic):               0.00\n",
      "Time:                            07:32:24   Log-Likelihood:                -52050.\n",
      "No. Observations:                    4972   AIC:                         1.041e+05\n",
      "Df Residuals:                        4964   BIC:                         1.042e+05\n",
      "Df Model:                               7                                         \n",
      "Covariance Type:                nonrobust                                         \n",
      "===================================================================================\n",
      "                      coef    std err          t      P>|t|      [0.025      0.975]\n",
      "-----------------------------------------------------------------------------------\n",
      "const           -1250.3829   1390.203     -0.899      0.368   -3975.796    1475.030\n",
      "age               223.9959     12.068     18.561      0.000     200.337     247.655\n",
      "net_salary          0.2238      0.039      5.805      0.000       0.148       0.299\n",
      "other_income        0.2614      0.049      5.299      0.000       0.165       0.358\n",
      "housing_spend      -0.1628      0.083     -1.954      0.051      -0.326       0.001\n",
      "childcare_spend    -0.2776      0.057     -4.889      0.000      -0.389      -0.166\n",
      "gambling_spend     -0.6104      0.298     -2.046      0.041      -1.195      -0.026\n",
      "credit_score        0.5447      0.374      1.458      0.145      -0.187       1.277\n",
      "==============================================================================\n",
      "Omnibus:                     1847.635   Durbin-Watson:                   1.982\n",
      "Prob(Omnibus):                  0.000   Jarque-Bera (JB):             5469.600\n",
      "Skew:                          -1.992   Prob(JB):                         0.00\n",
      "Kurtosis:                       6.245   Cond. No.                     7.36e+05\n",
      "==============================================================================\n",
      "\n",
      "Notes:\n",
      "[1] Standard Errors assume that the covariance matrix of the errors is correctly specified.\n",
      "[2] The condition number is large, 7.36e+05. This might indicate that there are\n",
      "strong multicollinearity or other numerical problems.\n"
     ]
    }
   ],
   "source": [
    "X = ['age', 'net_salary', 'other_income','housing_spend', 'childcare_spend', 'gambling_spend', 'credit_score']\n",
    "model3 = regression_model(df, 'annual_net_savings_lbg', X)\n",
    "print(model3.summary())"
   ]
  },
  {
   "cell_type": "code",
   "execution_count": null,
   "metadata": {},
   "outputs": [],
   "source": []
  }
 ],
 "metadata": {
  "kernelspec": {
   "display_name": "technical-exercise-N_MZUueQ-py3.10",
   "language": "python",
   "name": "python3"
  },
  "language_info": {
   "codemirror_mode": {
    "name": "ipython",
    "version": 3
   },
   "file_extension": ".py",
   "mimetype": "text/x-python",
   "name": "python",
   "nbconvert_exporter": "python",
   "pygments_lexer": "ipython3",
   "version": "3.10.12"
  }
 },
 "nbformat": 4,
 "nbformat_minor": 2
}
