{
 "cells": [
  {
   "cell_type": "markdown",
   "metadata": {},
   "source": [
    "3.\tBuild statistical model(s) – also known as econometric model(s) – to explain how a set of explanatory variables each affect annual net savings. Comment on the results. Which explanatory variables have robust statistically significant effects in your model(s)? Do these results make sense?"
   ]
  },
  {
   "cell_type": "code",
   "execution_count": 11,
   "metadata": {},
   "outputs": [],
   "source": [
    "import pandas as pd\n",
    "import numpy as np\n",
    "import matplotlib.pyplot as plt \n",
    "\n",
    "import statsmodels.api as sm\n"
   ]
  },
  {
   "cell_type": "markdown",
   "metadata": {},
   "source": [
    "Build a simple regression model: ordinary least square (OLS) where the net saving is represented as a linear combination of the independent variables and find the best fit to estimate the co-efficients. In modeling so, we make the following assumptions:\n",
    "\n",
    "1) linear relationship between net savings and independent (explanatory) variables \n",
    "2) residuals (erros) are normally distributed \n",
    "3) variance of the residuals are constant \n",
    "4) annual net saving is independt of residuals\n",
    "5) no multicollinearity -- we know from our previous correlation analysis that some of the variables are *highly correleated* - a) `net_salary`, `observed_income`, `other_income`, `observed_surplus` b) `age`, `savings_bal_lbg`. Keep `observed_income`, `age` and drop the  others.  "
   ]
  },
  {
   "cell_type": "code",
   "execution_count": 12,
   "metadata": {},
   "outputs": [],
   "source": [
    "# read the cleaned dataset \n",
    "df = pd.read_pickle('data/customer_data_modified.pkl')"
   ]
  },
  {
   "cell_type": "code",
   "execution_count": 13,
   "metadata": {},
   "outputs": [],
   "source": [
    "# drop the variables we dont need \n",
    "# df = df_clean.drop(columns=['cust_unique_id', 'gender', 'ethnicity_group', 'geo_region', 'net_salary', 'other_income', 'observed_surplus', 'savings_bal_lbg'])"
   ]
  },
  {
   "cell_type": "code",
   "execution_count": 14,
   "metadata": {},
   "outputs": [
    {
     "name": "stdout",
     "output_type": "stream",
     "text": [
      "<class 'pandas.core.frame.DataFrame'>\n",
      "Index: 4972 entries, 7 to 30304\n",
      "Data columns (total 18 columns):\n",
      " #   Column                  Non-Null Count  Dtype  \n",
      "---  ------                  --------------  -----  \n",
      " 0   cust_unique_id          4972 non-null   int64  \n",
      " 1   age                     4972 non-null   int64  \n",
      " 2   gender                  4972 non-null   object \n",
      " 3   gender_cat              4972 non-null   int64  \n",
      " 4   ethnicity_group         4972 non-null   object \n",
      " 5   ethnicity_group_cat     4972 non-null   int64  \n",
      " 6   geo_region              4972 non-null   object \n",
      " 7   geo_region_cat          4972 non-null   int64  \n",
      " 8   net_salary              4972 non-null   float64\n",
      " 9   other_income            4972 non-null   float64\n",
      " 10  observed_income         4972 non-null   float64\n",
      " 11  housing_spend           4972 non-null   float64\n",
      " 12  childcare_spend         4972 non-null   float64\n",
      " 13  gambling_spend          4972 non-null   float64\n",
      " 14  observed_surplus        4972 non-null   float64\n",
      " 15  credit_score            4972 non-null   float64\n",
      " 16  savings_bal_lbg         4972 non-null   float64\n",
      " 17  annual_net_savings_lbg  4972 non-null   float64\n",
      "dtypes: float64(10), int64(5), object(3)\n",
      "memory usage: 738.0+ KB\n"
     ]
    }
   ],
   "source": [
    "df.info()"
   ]
  },
  {
   "cell_type": "code",
   "execution_count": 15,
   "metadata": {},
   "outputs": [],
   "source": [
    "# function to perform OLS fit and to return the model\n",
    "\n",
    "def regression_model(df, dependent_var, independent_vars):\n",
    "    X = df[independent_vars]\n",
    "    Y = df[dependent_var]\n",
    "\n",
    "    # add coefficients \n",
    "    X = sm.add_constant(X)\n",
    "\n",
    "    model = sm.OLS(Y,X).fit()\n",
    "    predictions = model.predict(X)\n",
    "    #print(predictions)\n",
    "\n",
    "    \n",
    "    return model\n"
   ]
  },
  {
   "cell_type": "code",
   "execution_count": 20,
   "metadata": {},
   "outputs": [
    {
     "name": "stdout",
     "output_type": "stream",
     "text": [
      "                              OLS Regression Results                              \n",
      "==================================================================================\n",
      "Dep. Variable:     annual_net_savings_lbg   R-squared:                       0.271\n",
      "Model:                                OLS   Adj. R-squared:                  0.269\n",
      "Method:                     Least Squares   F-statistic:                     184.3\n",
      "Date:                    Thu, 07 Dec 2023   Prob (F-statistic):               0.00\n",
      "Time:                            08:27:24   Log-Likelihood:                -52049.\n",
      "No. Observations:                    4972   AIC:                         1.041e+05\n",
      "Df Residuals:                        4961   BIC:                         1.042e+05\n",
      "Df Model:                              10                                         \n",
      "Covariance Type:                nonrobust                                         \n",
      "=======================================================================================\n",
      "                          coef    std err          t      P>|t|      [0.025      0.975]\n",
      "---------------------------------------------------------------------------------------\n",
      "const                -662.5019   1468.355     -0.451      0.652   -3541.127    2216.124\n",
      "age                   223.7538     12.130     18.446      0.000     199.974     247.534\n",
      "gender_cat            166.9798    234.023      0.714      0.476    -291.809     625.768\n",
      "ethnicity_group_cat  -226.6581    205.897     -1.101      0.271    -630.307     176.991\n",
      "geo_region_cat        -41.1902    111.462     -0.370      0.712    -259.705     177.325\n",
      "net_salary              0.2214      0.040      5.499      0.000       0.142       0.300\n",
      "other_income            0.2690      0.051      5.296      0.000       0.169       0.369\n",
      "housing_spend          -0.1643      0.083     -1.971      0.049      -0.328      -0.001\n",
      "childcare_spend        -0.2773      0.057     -4.883      0.000      -0.389      -0.166\n",
      "gambling_spend         -0.6106      0.298     -2.047      0.041      -1.196      -0.026\n",
      "credit_score            0.5421      0.374      1.451      0.147      -0.190       1.274\n",
      "==============================================================================\n",
      "Omnibus:                     1848.822   Durbin-Watson:                   1.983\n",
      "Prob(Omnibus):                  0.000   Jarque-Bera (JB):             5477.229\n",
      "Skew:                          -1.993   Prob(JB):                         0.00\n",
      "Kurtosis:                       6.249   Cond. No.                     7.78e+05\n",
      "==============================================================================\n",
      "\n",
      "Notes:\n",
      "[1] Standard Errors assume that the covariance matrix of the errors is correctly specified.\n",
      "[2] The condition number is large, 7.78e+05. This might indicate that there are\n",
      "strong multicollinearity or other numerical problems.\n"
     ]
    }
   ],
   "source": [
    "X = ['age', 'gender_cat', 'ethnicity_group_cat', 'geo_region_cat', 'net_salary', 'other_income', 'housing_spend', 'childcare_spend', 'gambling_spend', 'credit_score']\n",
    "model1 = regression_model(df, 'annual_net_savings_lbg', X)\n",
    "print(model1.summary())"
   ]
  },
  {
   "cell_type": "markdown",
   "metadata": {},
   "source": [
    "# Summary:\n",
    "* model1 uses the set of independent variables shown above. \n",
    "* Adj. R^2: model explains 27% of the variance in annual net salary \n",
    "* The F-statistics along with P(F) strongly rejects the null hypothesis and confirms the affect of the independent variables on the regression is significant \n",
    "* Age has the highest co-efficient with p-value of 0 indicating robust affect on annual net savings with large statistical significance\n",
    "* `net_salary`, `other_income`, `housing_spend`, `childcare_spend`, `gambling_spend` also affect net savings with large statistical significance \n",
    "* On the other hand categorical variables- `gender`, `ethnicity`, `geo_region` although have large \"affect\" (value of coef) on net savings they are not statistically significant "
   ]
  },
  {
   "cell_type": "code",
   "execution_count": 21,
   "metadata": {},
   "outputs": [
    {
     "name": "stdout",
     "output_type": "stream",
     "text": [
      "                              OLS Regression Results                              \n",
      "==================================================================================\n",
      "Dep. Variable:     annual_net_savings_lbg   R-squared:                       0.270\n",
      "Model:                                OLS   Adj. R-squared:                  0.269\n",
      "Method:                     Least Squares   F-statistic:                     306.5\n",
      "Date:                    Thu, 07 Dec 2023   Prob (F-statistic):               0.00\n",
      "Time:                            08:30:15   Log-Likelihood:                -52051.\n",
      "No. Observations:                    4972   AIC:                         1.041e+05\n",
      "Df Residuals:                        4965   BIC:                         1.042e+05\n",
      "Df Model:                               6                                         \n",
      "Covariance Type:                nonrobust                                         \n",
      "===================================================================================\n",
      "                      coef    std err          t      P>|t|      [0.025      0.975]\n",
      "-----------------------------------------------------------------------------------\n",
      "const            -803.2253   1356.127     -0.592      0.554   -3461.833    1855.382\n",
      "age               223.8232     12.069     18.545      0.000     200.163     247.484\n",
      "net_salary          0.2356      0.038      6.246      0.000       0.162       0.309\n",
      "other_income        0.2717      0.049      5.565      0.000       0.176       0.367\n",
      "housing_spend      -0.1747      0.083     -2.108      0.035      -0.337      -0.012\n",
      "childcare_spend    -0.2869      0.056     -5.084      0.000      -0.398      -0.176\n",
      "gambling_spend     -0.6187      0.298     -2.074      0.038      -1.203      -0.034\n",
      "==============================================================================\n",
      "Omnibus:                     1848.569   Durbin-Watson:                   1.981\n",
      "Prob(Omnibus):                  0.000   Jarque-Bera (JB):             5474.508\n",
      "Skew:                          -1.993   Prob(JB):                         0.00\n",
      "Kurtosis:                       6.247   Cond. No.                     7.18e+05\n",
      "==============================================================================\n",
      "\n",
      "Notes:\n",
      "[1] Standard Errors assume that the covariance matrix of the errors is correctly specified.\n",
      "[2] The condition number is large, 7.18e+05. This might indicate that there are\n",
      "strong multicollinearity or other numerical problems.\n"
     ]
    }
   ],
   "source": [
    "# lets create another model by dropping the variables that doesn't have statistically significant affect on net savings \n",
    "X = ['age', 'net_salary', 'other_income', 'housing_spend', 'childcare_spend', 'gambling_spend']\n",
    "model2 = regression_model(df, 'annual_net_savings_lbg', X)\n",
    "print(model2.summary())"
   ]
  },
  {
   "cell_type": "markdown",
   "metadata": {},
   "source": [
    "* The Adjusted R^2 remains the same further confirming the affect of those variables are not significant  "
   ]
  },
  {
   "cell_type": "markdown",
   "metadata": {},
   "source": [
    "# Caveat/Drawback:\n",
    "\n",
    "Despite the above result and insights, keep in mind that this model has the following drawbacks:\n",
    "* Condition number which measures the sensitivity of the dependent variable compared to the indepent variables is very high i.e. large fluctuation of output with small fluctuation in input. This is due to the multicollinearity - which we already know from our correlation matrix. We only dropped the most significant correlations. However, OLS assumes no multicorrelation. For cases like this a Principal Component Analysis followed up a linear regression would be the next approach to try. \n",
    "\n",
    "* From P(Omnibus), P(JB) also suggest that the assumption of the normal distribution of the residuals is also not valid."
   ]
  }
 ],
 "metadata": {
  "kernelspec": {
   "display_name": "technical-exercise-N_MZUueQ-py3.10",
   "language": "python",
   "name": "python3"
  },
  "language_info": {
   "codemirror_mode": {
    "name": "ipython",
    "version": 3
   },
   "file_extension": ".py",
   "mimetype": "text/x-python",
   "name": "python",
   "nbconvert_exporter": "python",
   "pygments_lexer": "ipython3",
   "version": "3.10.12"
  }
 },
 "nbformat": 4,
 "nbformat_minor": 2
}
