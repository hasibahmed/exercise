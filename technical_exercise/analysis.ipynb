{
 "cells": [
  {
   "cell_type": "code",
   "execution_count": 43,
   "metadata": {},
   "outputs": [],
   "source": [
    "import pandas as pd\n",
    "import numpy as np\n",
    "import seaborn as sns\n",
    "import matplotlib as pl\n",
    "\n",
    "from sklearn.model_selection import train_test_split"
   ]
  },
  {
   "cell_type": "markdown",
   "metadata": {},
   "source": [
    "The csv data file provided contains synthetic data representing a stratified random sample of customers who have a savings account, and who satisfy several other criteria: they are *all aged 18 or over*, *none of them have retired yet*, and all of them have a current account (based on separate analysis) appears to be their main current account. The data are for a single year only.  All monetary amounts are in GBP and are full-year amounts. "
   ]
  },
  {
   "cell_type": "code",
   "execution_count": 44,
   "metadata": {},
   "outputs": [],
   "source": [
    "df = pd.read_csv('data/savings_customers_data_v1.csv')"
   ]
  },
  {
   "cell_type": "markdown",
   "metadata": {},
   "source": [
    "```\n",
    "cust_unique_id\tA unique ID generated for each customer for the purposes of this analysis, in order to preserve customer anonymity.\n",
    "age\tThe age of each customer in years at the mid-point of the year for which data was queried. \n",
    "gender\tThe self-identified gender recorded by each customer.\n",
    "ethnicity_group\tThe self-identified etnnicity group recorded by each customer. \n",
    "geo_region\tThe geographical region of the UK to which the customers recorded address and postcode correspond. \n",
    "net_salary\tThe total inflows into the customer's current account identified as consisting of salary payments, based on a separate analysis. \n",
    "other_income\tThe total inflows into the customer's current account identified as consisting of non-salary forms of income, based on a separate analysis. \n",
    "observed_income\tThe sum of net_salary and other_income. \n",
    "housing_spend\tThe total outflows from the customer's current account identified as consisting of mortgage, rent and other housing costs, based on a separate analysis. \n",
    "childcare_spend\tThe total outflows from the customer's current account identified as consisting of nursery, childminder and other childcare costs, based on a separate analysis. \n",
    "gambling_spend\tThe total outflows from the customer's current account identified as consisting of spending on gambling websites, based on a separate analysis. \n",
    "observed_surplus\tThe total of observed income minus the total of observed costs. \n",
    "credit_score\tThe credit score assigned to the customer by an internal bank credit scoring process. \n",
    "savings_bal_lbg\tThe total balance of savings held by the customer with Lloyds Banking Group entities as of the start of the year for which data was queried. \n",
    "annual_net_savings_lbg\tThe total of savings payments made by the customer into savings accounts with Lloyds Banking Group entities, minus withdrawls from those accounts, during the year for which data was queried.\n",
    "```"
   ]
  },
  {
   "cell_type": "markdown",
   "metadata": {},
   "source": [
    "### 1.\tCleanse the data and prepare it to be suitable for statistical modelling and machine learning. Comment on the steps performed and explain the rationale for them."
   ]
  },
  {
   "cell_type": "code",
   "execution_count": 45,
   "metadata": {},
   "outputs": [
    {
     "name": "stdout",
     "output_type": "stream",
     "text": [
      "<class 'pandas.core.frame.DataFrame'>\n",
      "RangeIndex: 30305 entries, 0 to 30304\n",
      "Data columns (total 15 columns):\n",
      " #   Column                  Non-Null Count  Dtype  \n",
      "---  ------                  --------------  -----  \n",
      " 0   cust_unique_id          30305 non-null  int64  \n",
      " 1   age                     30305 non-null  int64  \n",
      " 2   gender                  30305 non-null  object \n",
      " 3   ethnicity_group         30305 non-null  object \n",
      " 4   geo_region              30305 non-null  object \n",
      " 5   net_salary              30305 non-null  float64\n",
      " 6   other_income            26067 non-null  float64\n",
      " 7   observed_income         30305 non-null  float64\n",
      " 8   housing_spend           22949 non-null  float64\n",
      " 9   childcare_spend         30305 non-null  float64\n",
      " 10  gambling_spend          30305 non-null  float64\n",
      " 11  observed_surplus        30305 non-null  float64\n",
      " 12  credit_score            30305 non-null  object \n",
      " 13  savings_bal_lbg         30305 non-null  float64\n",
      " 14  annual_net_savings_lbg  30305 non-null  float64\n",
      "dtypes: float64(9), int64(2), object(4)\n",
      "memory usage: 3.5+ MB\n"
     ]
    }
   ],
   "source": [
    "df.info() # check data type and null counts "
   ]
  },
  {
   "cell_type": "code",
   "execution_count": 46,
   "metadata": {},
   "outputs": [
    {
     "name": "stdout",
     "output_type": "stream",
     "text": [
      "other_income has 4238 null rows\n",
      "housing_spend has 7356 null rows\n"
     ]
    }
   ],
   "source": [
    "print(f'other_income has {30305-26067} null rows')\n",
    "print(f'housing_spend has {30305-22949} null rows')"
   ]
  },
  {
   "cell_type": "code",
   "execution_count": 47,
   "metadata": {},
   "outputs": [
    {
     "name": "stdout",
     "output_type": "stream",
     "text": [
      "unique customers 30305 30305\n"
     ]
    }
   ],
   "source": [
    "# check if we have any duplicate customers \n",
    "\n",
    "print('unique customers', len(df), df.cust_unique_id.nunique())"
   ]
  },
  {
   "cell_type": "code",
   "execution_count": 48,
   "metadata": {},
   "outputs": [
    {
     "name": "stdout",
     "output_type": "stream",
     "text": [
      "unique genders ['M' 'Other' 'F' '9999']\n"
     ]
    }
   ],
   "source": [
    "# check the genders \n",
    "print('unique genders', df.gender.unique())"
   ]
  },
  {
   "cell_type": "code",
   "execution_count": 49,
   "metadata": {},
   "outputs": [
    {
     "data": {
      "text/plain": [
       "360"
      ]
     },
     "execution_count": 49,
     "metadata": {},
     "output_type": "execute_result"
    }
   ],
   "source": [
    "# how many customers have 9999 for gender?\n",
    "df[df.gender == '9999'].cust_unique_id.count()"
   ]
  },
  {
   "cell_type": "code",
   "execution_count": 50,
   "metadata": {},
   "outputs": [
    {
     "name": "stdout",
     "output_type": "stream",
     "text": [
      "ethnicity_group ['White British' 'Afro-Carribbean' 'White Other' 'South Asian' 'Other']\n"
     ]
    }
   ],
   "source": [
    "# check ethnicity_group\n",
    "print('ethnicity_group', df.ethnicity_group.unique())"
   ]
  },
  {
   "cell_type": "code",
   "execution_count": 51,
   "metadata": {},
   "outputs": [
    {
     "name": "stdout",
     "output_type": "stream",
     "text": [
      "geo_region ['Southeast' 'Midlands' 'Scotland' 'Southwest' 'Wales' 'North']\n"
     ]
    }
   ],
   "source": [
    "# check geo_region\n",
    "print('geo_region', df.geo_region.unique())"
   ]
  },
  {
   "cell_type": "code",
   "execution_count": 52,
   "metadata": {},
   "outputs": [
    {
     "data": {
      "text/plain": [
       "array([0, 'PROMO34'], dtype=object)"
      ]
     },
     "execution_count": 52,
     "metadata": {},
     "output_type": "execute_result"
    }
   ],
   "source": [
    "# check why credit_score is object-type. Trying to cast it to float-type\n",
    "# string-types will show up as an exception \n",
    "def isfloat(num):\n",
    "    try: \n",
    "        float(num)\n",
    "        return 0\n",
    "    except:\n",
    "        return num\n",
    "    \n",
    "df.credit_score.apply(isfloat).unique()"
   ]
  },
  {
   "cell_type": "code",
   "execution_count": 53,
   "metadata": {},
   "outputs": [
    {
     "data": {
      "text/plain": [
       "1050"
      ]
     },
     "execution_count": 53,
     "metadata": {},
     "output_type": "execute_result"
    }
   ],
   "source": [
    "# how customers with PROMO34 credit score?\n",
    "df[df.credit_score == 'PROMO34'].cust_unique_id.count()"
   ]
  },
  {
   "cell_type": "code",
   "execution_count": 54,
   "metadata": {},
   "outputs": [
    {
     "data": {
      "text/plain": [
       "0"
      ]
     },
     "execution_count": 54,
     "metadata": {},
     "output_type": "execute_result"
    }
   ],
   "source": [
    "# check if any customers credit score is 0\n",
    "df[df.credit_score == 0].cust_unique_id.count()"
   ]
  },
  {
   "cell_type": "markdown",
   "metadata": {},
   "source": [
    "Reasonable assumptions:\n",
    "\n",
    "1. Keep gender == 9999 in its own group, assumption here that we don't know the gender information of these customers\n",
    "2. In the absense of any background knowlege about 'PROMO34' assume these customers don't have a credit score, i.e. set the credit score to 0 for these customers. "
   ]
  },
  {
   "cell_type": "code",
   "execution_count": 59,
   "metadata": {},
   "outputs": [],
   "source": [
    "df.credit_score.replace(to_replace='PROMO34', value='0', inplace=True)"
   ]
  },
  {
   "cell_type": "code",
   "execution_count": 62,
   "metadata": {},
   "outputs": [],
   "source": [
    "# change dtype to float\n",
    "df.credit_score = df.credit_score.astype(float)"
   ]
  },
  {
   "cell_type": "code",
   "execution_count": 63,
   "metadata": {},
   "outputs": [
    {
     "data": {
      "text/html": [
       "<div>\n",
       "<style scoped>\n",
       "    .dataframe tbody tr th:only-of-type {\n",
       "        vertical-align: middle;\n",
       "    }\n",
       "\n",
       "    .dataframe tbody tr th {\n",
       "        vertical-align: top;\n",
       "    }\n",
       "\n",
       "    .dataframe thead th {\n",
       "        text-align: right;\n",
       "    }\n",
       "</style>\n",
       "<table border=\"1\" class=\"dataframe\">\n",
       "  <thead>\n",
       "    <tr style=\"text-align: right;\">\n",
       "      <th></th>\n",
       "      <th>cust_unique_id</th>\n",
       "      <th>age</th>\n",
       "      <th>net_salary</th>\n",
       "      <th>other_income</th>\n",
       "      <th>observed_income</th>\n",
       "      <th>housing_spend</th>\n",
       "      <th>childcare_spend</th>\n",
       "      <th>gambling_spend</th>\n",
       "      <th>observed_surplus</th>\n",
       "      <th>credit_score</th>\n",
       "      <th>savings_bal_lbg</th>\n",
       "      <th>annual_net_savings_lbg</th>\n",
       "    </tr>\n",
       "  </thead>\n",
       "  <tbody>\n",
       "    <tr>\n",
       "      <th>count</th>\n",
       "      <td>30305.00000</td>\n",
       "      <td>30305.000000</td>\n",
       "      <td>30305.000000</td>\n",
       "      <td>26067.000000</td>\n",
       "      <td>30305.000000</td>\n",
       "      <td>22949.000000</td>\n",
       "      <td>30305.000000</td>\n",
       "      <td>30305.000000</td>\n",
       "      <td>30305.000000</td>\n",
       "      <td>30305.000000</td>\n",
       "      <td>3.030500e+04</td>\n",
       "      <td>30305.000000</td>\n",
       "    </tr>\n",
       "    <tr>\n",
       "      <th>mean</th>\n",
       "      <td>15153.00000</td>\n",
       "      <td>41.654182</td>\n",
       "      <td>56585.867472</td>\n",
       "      <td>13580.886176</td>\n",
       "      <td>69246.199349</td>\n",
       "      <td>24719.267675</td>\n",
       "      <td>593.375517</td>\n",
       "      <td>98.408160</td>\n",
       "      <td>51270.967701</td>\n",
       "      <td>1748.052575</td>\n",
       "      <td>8.405509e+05</td>\n",
       "      <td>21299.618218</td>\n",
       "    </tr>\n",
       "    <tr>\n",
       "      <th>std</th>\n",
       "      <td>8748.44429</td>\n",
       "      <td>15.444812</td>\n",
       "      <td>11794.832398</td>\n",
       "      <td>5862.046413</td>\n",
       "      <td>14708.576183</td>\n",
       "      <td>4325.260951</td>\n",
       "      <td>2528.447257</td>\n",
       "      <td>2881.362877</td>\n",
       "      <td>16050.305701</td>\n",
       "      <td>399.942384</td>\n",
       "      <td>7.323375e+05</td>\n",
       "      <td>10018.424977</td>\n",
       "    </tr>\n",
       "    <tr>\n",
       "      <th>min</th>\n",
       "      <td>1.00000</td>\n",
       "      <td>4.000000</td>\n",
       "      <td>-1000.000000</td>\n",
       "      <td>0.000000</td>\n",
       "      <td>32518.450000</td>\n",
       "      <td>10573.570000</td>\n",
       "      <td>0.000000</td>\n",
       "      <td>0.000000</td>\n",
       "      <td>-408635.510000</td>\n",
       "      <td>0.000000</td>\n",
       "      <td>0.000000e+00</td>\n",
       "      <td>0.000000</td>\n",
       "    </tr>\n",
       "    <tr>\n",
       "      <th>25%</th>\n",
       "      <td>7577.00000</td>\n",
       "      <td>29.000000</td>\n",
       "      <td>50407.530000</td>\n",
       "      <td>9962.795000</td>\n",
       "      <td>59196.380000</td>\n",
       "      <td>21605.140000</td>\n",
       "      <td>0.000000</td>\n",
       "      <td>0.000000</td>\n",
       "      <td>40242.040000</td>\n",
       "      <td>1643.360000</td>\n",
       "      <td>1.514217e+05</td>\n",
       "      <td>16891.130000</td>\n",
       "    </tr>\n",
       "    <tr>\n",
       "      <th>50%</th>\n",
       "      <td>15153.00000</td>\n",
       "      <td>42.000000</td>\n",
       "      <td>56643.520000</td>\n",
       "      <td>12716.980000</td>\n",
       "      <td>67338.610000</td>\n",
       "      <td>24603.170000</td>\n",
       "      <td>0.000000</td>\n",
       "      <td>0.000000</td>\n",
       "      <td>50093.010000</td>\n",
       "      <td>1792.250000</td>\n",
       "      <td>7.113819e+05</td>\n",
       "      <td>22870.700000</td>\n",
       "    </tr>\n",
       "    <tr>\n",
       "      <th>75%</th>\n",
       "      <td>22729.00000</td>\n",
       "      <td>55.000000</td>\n",
       "      <td>64805.760000</td>\n",
       "      <td>18749.150000</td>\n",
       "      <td>82136.110000</td>\n",
       "      <td>28155.700000</td>\n",
       "      <td>0.000000</td>\n",
       "      <td>0.000000</td>\n",
       "      <td>60232.450000</td>\n",
       "      <td>1986.020000</td>\n",
       "      <td>1.397923e+06</td>\n",
       "      <td>28352.660000</td>\n",
       "    </tr>\n",
       "    <tr>\n",
       "      <th>max</th>\n",
       "      <td>30305.00000</td>\n",
       "      <td>68.000000</td>\n",
       "      <td>104374.080000</td>\n",
       "      <td>29752.890000</td>\n",
       "      <td>131050.070000</td>\n",
       "      <td>42189.020000</td>\n",
       "      <td>17778.930000</td>\n",
       "      <td>448664.260000</td>\n",
       "      <td>128700.410000</td>\n",
       "      <td>2719.650000</td>\n",
       "      <td>3.615059e+06</td>\n",
       "      <td>42951.370000</td>\n",
       "    </tr>\n",
       "  </tbody>\n",
       "</table>\n",
       "</div>"
      ],
      "text/plain": [
       "       cust_unique_id           age     net_salary  other_income  \\\n",
       "count     30305.00000  30305.000000   30305.000000  26067.000000   \n",
       "mean      15153.00000     41.654182   56585.867472  13580.886176   \n",
       "std        8748.44429     15.444812   11794.832398   5862.046413   \n",
       "min           1.00000      4.000000   -1000.000000      0.000000   \n",
       "25%        7577.00000     29.000000   50407.530000   9962.795000   \n",
       "50%       15153.00000     42.000000   56643.520000  12716.980000   \n",
       "75%       22729.00000     55.000000   64805.760000  18749.150000   \n",
       "max       30305.00000     68.000000  104374.080000  29752.890000   \n",
       "\n",
       "       observed_income  housing_spend  childcare_spend  gambling_spend  \\\n",
       "count     30305.000000   22949.000000     30305.000000    30305.000000   \n",
       "mean      69246.199349   24719.267675       593.375517       98.408160   \n",
       "std       14708.576183    4325.260951      2528.447257     2881.362877   \n",
       "min       32518.450000   10573.570000         0.000000        0.000000   \n",
       "25%       59196.380000   21605.140000         0.000000        0.000000   \n",
       "50%       67338.610000   24603.170000         0.000000        0.000000   \n",
       "75%       82136.110000   28155.700000         0.000000        0.000000   \n",
       "max      131050.070000   42189.020000     17778.930000   448664.260000   \n",
       "\n",
       "       observed_surplus  credit_score  savings_bal_lbg  annual_net_savings_lbg  \n",
       "count      30305.000000  30305.000000     3.030500e+04            30305.000000  \n",
       "mean       51270.967701   1748.052575     8.405509e+05            21299.618218  \n",
       "std        16050.305701    399.942384     7.323375e+05            10018.424977  \n",
       "min      -408635.510000      0.000000     0.000000e+00                0.000000  \n",
       "25%        40242.040000   1643.360000     1.514217e+05            16891.130000  \n",
       "50%        50093.010000   1792.250000     7.113819e+05            22870.700000  \n",
       "75%        60232.450000   1986.020000     1.397923e+06            28352.660000  \n",
       "max       128700.410000   2719.650000     3.615059e+06            42951.370000  "
      ]
     },
     "execution_count": 63,
     "metadata": {},
     "output_type": "execute_result"
    }
   ],
   "source": [
    "df.describe() # statistics of the numberical values"
   ]
  },
  {
   "cell_type": "code",
   "execution_count": null,
   "metadata": {},
   "outputs": [],
   "source": []
  }
 ],
 "metadata": {
  "kernelspec": {
   "display_name": "technical-exercise-N_MZUueQ-py3.10",
   "language": "python",
   "name": "python3"
  },
  "language_info": {
   "codemirror_mode": {
    "name": "ipython",
    "version": 3
   },
   "file_extension": ".py",
   "mimetype": "text/x-python",
   "name": "python",
   "nbconvert_exporter": "python",
   "pygments_lexer": "ipython3",
   "version": "3.10.12"
  }
 },
 "nbformat": 4,
 "nbformat_minor": 2
}
